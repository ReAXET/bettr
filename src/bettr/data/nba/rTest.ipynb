{
 "cells": [
  {
   "cell_type": "code",
   "execution_count": null,
   "metadata": {},
   "outputs": [],
   "source": []
  },
  {
   "cell_type": "code",
   "execution_count": 9,
   "metadata": {},
   "outputs": [],
   "source": [
    "\n",
    "import pandas as pd\n",
    "from nba_api.stats.static import teams\n",
    "from nba_api.stats.endpoints import TeamInfoCommon\n",
    "from nba_api.stats.library.parameters import SeasonAll\n",
    "\n",
    "from datetime import datetime\n",
    "\n",
    "# Add a progress bar \n",
    "from tqdm import tqdm\n",
    "from rich import pretty\n",
    "\n",
    "pretty.install()"
   ]
  },
  {
   "cell_type": "code",
   "execution_count": 11,
   "metadata": {},
   "outputs": [
    {
     "name": "stderr",
     "output_type": "stream",
     "text": [
      "100%|██████████| 30/30 [00:07<00:00,  4.18it/s]\n"
     ]
    }
   ],
   "source": [
    "nba_teams = teams.get_teams()\n",
    "\n",
    "# Add a dataframe to store all the data\n",
    "df = pd.DataFrame(nba_teams)\n",
    "\n",
    "# Get the team ID for each team and loop through them to get the data from the API endpoint teaminfocommon\n",
    "team_ids = df['id'].to_list()\n",
    "\n",
    "# Create a dataframe to store the data\n",
    "df_team_info = pd.DataFrame()\n",
    "\n",
    "# Loop through the team IDs\n",
    "for team_id in tqdm(team_ids):\n",
    "    team_info_common = TeamInfoCommon(team_id=team_id)\n",
    "    df_team_info = pd.DataFrame()\n",
    "    df_team_info = pd.concat([team_info_common.get_data_frames()[0]])\n",
    "\n",
    "    # Add the team ID to the dataframe\n",
    "    df_team_info['TEAM_ID'] = team_id\n",
    "\n",
    "    # Add the data to the dataframe\n",
    "    df = pd.concat([df, df_team_info])\n",
    "\n",
    "\n",
    "# Save the data to a csv file\n",
    "df.to_csv('teams.csv')"
   ]
  },
  {
   "cell_type": "code",
   "execution_count": null,
   "metadata": {},
   "outputs": [],
   "source": []
  }
 ],
 "metadata": {
  "kernelspec": {
   "display_name": ".venv",
   "language": "python",
   "name": "python3"
  },
  "language_info": {
   "codemirror_mode": {
    "name": "ipython",
    "version": 3
   },
   "file_extension": ".py",
   "mimetype": "text/x-python",
   "name": "python",
   "nbconvert_exporter": "python",
   "pygments_lexer": "ipython3",
   "version": "3.12.0"
  }
 },
 "nbformat": 4,
 "nbformat_minor": 2
}
